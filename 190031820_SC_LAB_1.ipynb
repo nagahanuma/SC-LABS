{
  "nbformat": 4,
  "nbformat_minor": 0,
  "metadata": {
    "colab": {
      "name": "190030372_SC-Practical 1.ipynb",
      "provenance": [],
      "collapsed_sections": []
    },
    "kernelspec": {
      "name": "python3",
      "display_name": "Python 3"
    },
    "language_info": {
      "name": "python"
    }
  },
  "cells": [
    {
      "cell_type": "markdown",
      "metadata": {
        "id": "4ap0t0B5pT45"
      },
      "source": [
        "**LAB -1**\n",
        "\n",
        "**SOFT COMPUTING**\n",
        "\n",
        "**NAME : DASARI VENKATA RAMA KARTHIK**\n",
        "\n",
        "**ID NO : 190030372**\n"
      ]
    },
    {
      "cell_type": "markdown",
      "metadata": {
        "id": "FBFDYc3NpjA_"
      },
      "source": [
        "INLAB"
      ]
    },
    {
      "cell_type": "markdown",
      "metadata": {
        "id": "tcaBeVAnptdO"
      },
      "source": [
        "1)Find the Intersection and Union of the following sets and represent them in graph.           \n",
        "                              A(x)={(x1,0.7),(x2,0.3),(x3,0.9),(x4,0.1)}\n",
        "                              B(x)={(x1,0.2),(x2,0.5),(x3,0.7),(x4,0.4)}\n"
      ]
    },
    {
      "cell_type": "code",
      "metadata": {
        "colab": {
          "base_uri": "https://localhost:8080/"
        },
        "id": "-Rkr-CIepw76",
        "outputId": "2f2cec73-05cf-4793-b995-7f4f71646622"
      },
      "source": [
        "A = dict()\n",
        "B = dict()\n",
        "Y = dict()\n",
        "  \n",
        "A = {\"a\": 0.7, \"b\": 0.3, \"c\": 0.9, \"d\": 0.1}\n",
        "B = {\"a\": 0.2, \"b\": 0.5, \"c\": 0.7, \"d\": 0.4}\n",
        "  \n",
        "print('The First Fuzzy Set is  :', A)\n",
        "print('The Second Fuzzy Set is :', B)\n",
        "print('-----------------------------------------------------------------')\n",
        "  \n",
        "for A_key, B_key in zip(A, B):\n",
        "    A_value = A[A_key]\n",
        "    B_value = B[B_key]\n",
        "  \n",
        "    if A_value > B_value:\n",
        "        Y[A_key] = A_value\n",
        "    else:\n",
        "        Y[B_key] = B_value\n",
        "          \n",
        "print('Fuzzy Set Union is      :', Y)\n",
        "\n",
        "\n",
        "for A_key, B_key in zip(A, B):\n",
        "    A_value = A[A_key]\n",
        "    B_value = B[B_key]\n",
        "  \n",
        "    if A_value < B_value:\n",
        "        Y[A_key] = A_value\n",
        "    else:\n",
        "        Y[B_key] = B_value\n",
        "print('Fuzzy Set Intersection is :', Y)\n"
      ],
      "execution_count": null,
      "outputs": [
        {
          "output_type": "stream",
          "text": [
            "The First Fuzzy Set is  : {'a': 0.7, 'b': 0.3, 'c': 0.9, 'd': 0.1}\n",
            "The Second Fuzzy Set is : {'a': 0.2, 'b': 0.5, 'c': 0.7, 'd': 0.4}\n",
            "-----------------------------------------------------------------\n",
            "Fuzzy Set Union is      : {'a': 0.7, 'b': 0.5, 'c': 0.9, 'd': 0.4}\n",
            "Fuzzy Set Intersection is : {'a': 0.2, 'b': 0.3, 'c': 0.7, 'd': 0.1}\n"
          ],
          "name": "stdout"
        }
      ]
    },
    {
      "cell_type": "markdown",
      "metadata": {
        "id": "6HgTrkAWxL7y"
      },
      "source": [
        "2)Find the Cartesian product of the following:\n",
        "\n",
        "                    A(x)={(x1,0.2),(x2,0.3),(x3,0.5),(x4,0.6)}\n",
        "                    B(y)={(y1,0.8),(y2,0.6),(y3,0.3)}\n"
      ]
    },
    {
      "cell_type": "code",
      "metadata": {
        "colab": {
          "base_uri": "https://localhost:8080/",
          "height": 0
        },
        "id": "htN5CE81xMX1",
        "outputId": "34e6563e-7497-4ba9-c7df-88502be6d4b1"
      },
      "source": [
        "def findCart(arr1, arr2, n, n1):\n",
        " \n",
        "    for i in range(0,n):\n",
        "        for j in range(0,n1):\n",
        "            print(\"{\",arr1[i],\", \",arr2[j],\"}, \",sep=\"\",end=\"\")\n",
        " \n",
        "arr1 = [ 0.2, 0.3, 0.5, 0.6 ] \n",
        "arr2 = [ 0.8,0.6,0.3 ]\n",
        " \n",
        "n1 = len(arr1) \n",
        "n2 = len(arr2)\n",
        "print(\"Cartesian Poduct : \")\n",
        "findCart(arr1, arr2, n1, n2);"
      ],
      "execution_count": 2,
      "outputs": [
        {
          "output_type": "stream",
          "text": [
            "Cartesian Poduct : \n",
            "{0.2, 0.8}, {0.2, 0.6}, {0.2, 0.3}, {0.3, 0.8}, {0.3, 0.6}, {0.3, 0.3}, {0.5, 0.8}, {0.5, 0.6}, {0.5, 0.3}, {0.6, 0.8}, {0.6, 0.6}, {0.6, 0.3}, "
          ],
          "name": "stdout"
        }
      ]
    },
    {
      "cell_type": "markdown",
      "metadata": {
        "id": "yu7gQVTFxE_a"
      },
      "source": [
        "3.\tImplement a python program to show common operations applied on the fuzzy sets given below\n",
        "                  A = {\"a\": 0.2, \"b\": 0.3, \"c\": 0.6, \"d\": 0.6}\n",
        "                  B = {\"a\": 0.9, \"b\": 0.9, \"c\": 0.4, \"d\": 0.5}\n"
      ]
    },
    {
      "cell_type": "code",
      "metadata": {
        "colab": {
          "base_uri": "https://localhost:8080/"
        },
        "id": "J00nlD73vf5F",
        "outputId": "bac3857d-74eb-4606-d293-e5e2d106f46e"
      },
      "source": [
        "A = dict()\n",
        "B = dict()\n",
        "Y = dict()\n",
        "  \n",
        "A = {\"a\": 0.2, \"b\": 0.3, \"c\": 0.6, \"d\": 0.6}\n",
        "B = {\"a\": 0.9, \"b\": 0.9, \"c\": 0.4, \"d\": 0.5}\n",
        "  \n",
        "print('The First Fuzzy Set is  :', A)\n",
        "print('The Second Fuzzy Set is :', B)\n",
        "print('-----------------------------------------------------------------')\n",
        "  \n",
        "for A_key, B_key in zip(A, B):\n",
        "    A_value = A[A_key]\n",
        "    B_value = B[B_key]\n",
        "  \n",
        "    if A_value > B_value:\n",
        "        Y[A_key] = A_value\n",
        "    else:\n",
        "        Y[B_key] = B_value\n",
        "          \n",
        "print('Fuzzy Set Union is      :', Y)\n",
        "\n",
        "\n",
        "for A_key, B_key in zip(A, B):\n",
        "    A_value = A[A_key]\n",
        "    B_value = B[B_key]\n",
        "  \n",
        "    if A_value < B_value:\n",
        "        Y[A_key] = A_value\n",
        "    else:\n",
        "        Y[B_key] = B_value\n",
        "print('Fuzzy Set Intersection is :', Y)\n",
        "\n",
        "\n",
        "\n",
        "for A_key in A:\n",
        "   Y[A_key]= 1-A[A_key]\n",
        "          \n",
        "print('Fuzzy Set Complement is :', Y)\n",
        "\n",
        "\n",
        "for A_key, B_key in zip(A, B):\n",
        "    A_value = A[A_key]\n",
        "    B_value = B[B_key]\n",
        "    B_value = 1 - B_value\n",
        "  \n",
        "    if A_value < B_value:\n",
        "        Y[A_key] = A_value\n",
        "    else:\n",
        "        Y[B_key] = B_value\n",
        "          \n",
        "print('Fuzzy Set Difference is :', Y)"
      ],
      "execution_count": null,
      "outputs": [
        {
          "output_type": "stream",
          "text": [
            "The First Fuzzy Set is  : {'a': 0.2, 'b': 0.3, 'c': 0.6, 'd': 0.6}\n",
            "The Second Fuzzy Set is : {'a': 0.9, 'b': 0.9, 'c': 0.4, 'd': 0.5}\n",
            "-----------------------------------------------------------------\n",
            "Fuzzy Set Union is      : {'a': 0.9, 'b': 0.9, 'c': 0.6, 'd': 0.6}\n",
            "Fuzzy Set Intersection is : {'a': 0.2, 'b': 0.3, 'c': 0.4, 'd': 0.5}\n",
            "Fuzzy Set Complement is : {'a': 0.8, 'b': 0.7, 'c': 0.4, 'd': 0.4}\n",
            "Fuzzy Set Difference is : {'a': 0.09999999999999998, 'b': 0.09999999999999998, 'c': 0.6, 'd': 0.5}\n"
          ],
          "name": "stdout"
        }
      ]
    }
  ]
}